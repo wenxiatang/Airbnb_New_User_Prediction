{
 "cells": [
  {
   "cell_type": "markdown",
   "metadata": {},
   "source": [
    "# Feature Engineering\n"
   ]
  },
  {
   "cell_type": "code",
   "execution_count": 1,
   "metadata": {},
   "outputs": [],
   "source": [
    "import pandas as pd\n",
    "import numpy as np\n",
    "from statistics import mean\n",
    "from scipy.sparse import hstack\n",
    "from scipy.sparse import vstack\n",
    "from scipy import sparse \n",
    "from scipy.sparse import csr_matrix\n",
    "from sklearn.preprocessing import OneHotEncoder\n",
    "import pickle\n",
    "import joblib\n"
   ]
  },
  {
   "cell_type": "code",
   "execution_count": 2,
   "metadata": {},
   "outputs": [],
   "source": [
    "session_df = pd.read_csv(r\"C:\\Users\\Wenxia\\Desktop\\Python\\Airbnb_prediction\\data\\sessions.csv\")"
   ]
  },
  {
   "cell_type": "code",
   "execution_count": 3,
   "metadata": {},
   "outputs": [
    {
     "data": {
      "text/html": [
       "<div>\n",
       "<style scoped>\n",
       "    .dataframe tbody tr th:only-of-type {\n",
       "        vertical-align: middle;\n",
       "    }\n",
       "\n",
       "    .dataframe tbody tr th {\n",
       "        vertical-align: top;\n",
       "    }\n",
       "\n",
       "    .dataframe thead th {\n",
       "        text-align: right;\n",
       "    }\n",
       "</style>\n",
       "<table border=\"1\" class=\"dataframe\">\n",
       "  <thead>\n",
       "    <tr style=\"text-align: right;\">\n",
       "      <th></th>\n",
       "      <th>user_id</th>\n",
       "      <th>action</th>\n",
       "      <th>action_type</th>\n",
       "      <th>action_detail</th>\n",
       "      <th>device_type</th>\n",
       "      <th>secs_elapsed</th>\n",
       "    </tr>\n",
       "  </thead>\n",
       "  <tbody>\n",
       "    <tr>\n",
       "      <th>0</th>\n",
       "      <td>d1mm9tcy42</td>\n",
       "      <td>lookup</td>\n",
       "      <td>NaN</td>\n",
       "      <td>NaN</td>\n",
       "      <td>Windows Desktop</td>\n",
       "      <td>319.0</td>\n",
       "    </tr>\n",
       "    <tr>\n",
       "      <th>1</th>\n",
       "      <td>d1mm9tcy42</td>\n",
       "      <td>search_results</td>\n",
       "      <td>click</td>\n",
       "      <td>view_search_results</td>\n",
       "      <td>Windows Desktop</td>\n",
       "      <td>67753.0</td>\n",
       "    </tr>\n",
       "    <tr>\n",
       "      <th>2</th>\n",
       "      <td>d1mm9tcy42</td>\n",
       "      <td>lookup</td>\n",
       "      <td>NaN</td>\n",
       "      <td>NaN</td>\n",
       "      <td>Windows Desktop</td>\n",
       "      <td>301.0</td>\n",
       "    </tr>\n",
       "    <tr>\n",
       "      <th>3</th>\n",
       "      <td>d1mm9tcy42</td>\n",
       "      <td>search_results</td>\n",
       "      <td>click</td>\n",
       "      <td>view_search_results</td>\n",
       "      <td>Windows Desktop</td>\n",
       "      <td>22141.0</td>\n",
       "    </tr>\n",
       "    <tr>\n",
       "      <th>4</th>\n",
       "      <td>d1mm9tcy42</td>\n",
       "      <td>lookup</td>\n",
       "      <td>NaN</td>\n",
       "      <td>NaN</td>\n",
       "      <td>Windows Desktop</td>\n",
       "      <td>435.0</td>\n",
       "    </tr>\n",
       "  </tbody>\n",
       "</table>\n",
       "</div>"
      ],
      "text/plain": [
       "      user_id          action action_type        action_detail  \\\n",
       "0  d1mm9tcy42          lookup         NaN                  NaN   \n",
       "1  d1mm9tcy42  search_results       click  view_search_results   \n",
       "2  d1mm9tcy42          lookup         NaN                  NaN   \n",
       "3  d1mm9tcy42  search_results       click  view_search_results   \n",
       "4  d1mm9tcy42          lookup         NaN                  NaN   \n",
       "\n",
       "       device_type  secs_elapsed  \n",
       "0  Windows Desktop         319.0  \n",
       "1  Windows Desktop       67753.0  \n",
       "2  Windows Desktop         301.0  \n",
       "3  Windows Desktop       22141.0  \n",
       "4  Windows Desktop         435.0  "
      ]
     },
     "execution_count": 3,
     "metadata": {},
     "output_type": "execute_result"
    }
   ],
   "source": [
    "session_df.head()"
   ]
  },
  {
   "cell_type": "code",
   "execution_count": 4,
   "metadata": {},
   "outputs": [
    {
     "data": {
      "text/html": [
       "<div>\n",
       "<style scoped>\n",
       "    .dataframe tbody tr th:only-of-type {\n",
       "        vertical-align: middle;\n",
       "    }\n",
       "\n",
       "    .dataframe tbody tr th {\n",
       "        vertical-align: top;\n",
       "    }\n",
       "\n",
       "    .dataframe thead th {\n",
       "        text-align: right;\n",
       "    }\n",
       "</style>\n",
       "<table border=\"1\" class=\"dataframe\">\n",
       "  <thead>\n",
       "    <tr style=\"text-align: right;\">\n",
       "      <th></th>\n",
       "      <th>user_id</th>\n",
       "      <th>action</th>\n",
       "      <th>action_type</th>\n",
       "      <th>action_detail</th>\n",
       "      <th>device_type</th>\n",
       "      <th>secs_elapsed</th>\n",
       "    </tr>\n",
       "  </thead>\n",
       "  <tbody>\n",
       "    <tr>\n",
       "      <th>0</th>\n",
       "      <td>00023iyk9l</td>\n",
       "      <td>[index, dashboard, header_userpic, dashboard, ...</td>\n",
       "      <td>[view, view, data, view, partner_callback, mes...</td>\n",
       "      <td>[view_search_results, dashboard, header_userpi...</td>\n",
       "      <td>[Mac Desktop, Mac Desktop, Mac Desktop, Mac De...</td>\n",
       "      <td>[20438.0, 787.0, 850.0, 934.0, nan, 129817.0, ...</td>\n",
       "    </tr>\n",
       "    <tr>\n",
       "      <th>1</th>\n",
       "      <td>0010k6l0om</td>\n",
       "      <td>[search_results, show, personalize, show, sear...</td>\n",
       "      <td>[click, view, data, nan, click, click, nan, da...</td>\n",
       "      <td>[view_search_results, p3, wishlist_content_upd...</td>\n",
       "      <td>[Mac Desktop, Mac Desktop, Mac Desktop, Mac De...</td>\n",
       "      <td>[1708.0, 21260.0, 1223.0, 26.0, 847.0, 1230.0,...</td>\n",
       "    </tr>\n",
       "    <tr>\n",
       "      <th>2</th>\n",
       "      <td>001wyh0pz8</td>\n",
       "      <td>[search, search, search, show, social_connecti...</td>\n",
       "      <td>[click, click, click, view, data, -unknown-, v...</td>\n",
       "      <td>[view_search_results, view_search_results, vie...</td>\n",
       "      <td>[Android App Unknown Phone/Tablet, Android App...</td>\n",
       "      <td>[622.0, 1813.0, 1507.0, 6327.0, 927.0, 142.0, ...</td>\n",
       "    </tr>\n",
       "    <tr>\n",
       "      <th>3</th>\n",
       "      <td>0028jgx1x1</td>\n",
       "      <td>[show, reviews, show, search, show, search, re...</td>\n",
       "      <td>[view, data, view, click, view, click, data, s...</td>\n",
       "      <td>[user_profile, listing_reviews, p3, view_searc...</td>\n",
       "      <td>[-unknown-, -unknown-, -unknown-, -unknown-, -...</td>\n",
       "      <td>[6162.0, 75.0, 86.0, 13710.0, 25217.0, 10989.0...</td>\n",
       "    </tr>\n",
       "    <tr>\n",
       "      <th>4</th>\n",
       "      <td>002qnbzfs5</td>\n",
       "      <td>[social_connections, payment_methods, create, ...</td>\n",
       "      <td>[data, -unknown-, -unknown-, view, data, data,...</td>\n",
       "      <td>[user_social_connections, -unknown-, -unknown-...</td>\n",
       "      <td>[iPhone, iPhone, iPhone, iPhone, iPhone, iPhon...</td>\n",
       "      <td>[17135.0, 711.0, 274.0, 179.0, 483.0, 1.0, 782...</td>\n",
       "    </tr>\n",
       "  </tbody>\n",
       "</table>\n",
       "</div>"
      ],
      "text/plain": [
       "      user_id                                             action  \\\n",
       "0  00023iyk9l  [index, dashboard, header_userpic, dashboard, ...   \n",
       "1  0010k6l0om  [search_results, show, personalize, show, sear...   \n",
       "2  001wyh0pz8  [search, search, search, show, social_connecti...   \n",
       "3  0028jgx1x1  [show, reviews, show, search, show, search, re...   \n",
       "4  002qnbzfs5  [social_connections, payment_methods, create, ...   \n",
       "\n",
       "                                         action_type  \\\n",
       "0  [view, view, data, view, partner_callback, mes...   \n",
       "1  [click, view, data, nan, click, click, nan, da...   \n",
       "2  [click, click, click, view, data, -unknown-, v...   \n",
       "3  [view, data, view, click, view, click, data, s...   \n",
       "4  [data, -unknown-, -unknown-, view, data, data,...   \n",
       "\n",
       "                                       action_detail  \\\n",
       "0  [view_search_results, dashboard, header_userpi...   \n",
       "1  [view_search_results, p3, wishlist_content_upd...   \n",
       "2  [view_search_results, view_search_results, vie...   \n",
       "3  [user_profile, listing_reviews, p3, view_searc...   \n",
       "4  [user_social_connections, -unknown-, -unknown-...   \n",
       "\n",
       "                                         device_type  \\\n",
       "0  [Mac Desktop, Mac Desktop, Mac Desktop, Mac De...   \n",
       "1  [Mac Desktop, Mac Desktop, Mac Desktop, Mac De...   \n",
       "2  [Android App Unknown Phone/Tablet, Android App...   \n",
       "3  [-unknown-, -unknown-, -unknown-, -unknown-, -...   \n",
       "4  [iPhone, iPhone, iPhone, iPhone, iPhone, iPhon...   \n",
       "\n",
       "                                        secs_elapsed  \n",
       "0  [20438.0, 787.0, 850.0, 934.0, nan, 129817.0, ...  \n",
       "1  [1708.0, 21260.0, 1223.0, 26.0, 847.0, 1230.0,...  \n",
       "2  [622.0, 1813.0, 1507.0, 6327.0, 927.0, 142.0, ...  \n",
       "3  [6162.0, 75.0, 86.0, 13710.0, 25217.0, 10989.0...  \n",
       "4  [17135.0, 711.0, 274.0, 179.0, 483.0, 1.0, 782...  "
      ]
     },
     "execution_count": 4,
     "metadata": {},
     "output_type": "execute_result"
    }
   ],
   "source": [
    "session_df_concat = session_df.groupby(\"user_id\", as_index=False).agg(lambda x: x.tolist())\n",
    "session_df_concat.head()"
   ]
  },
  {
   "cell_type": "code",
   "execution_count": 5,
   "metadata": {},
   "outputs": [],
   "source": [
    "session_df_concat[\"total_secs\"] = session_df_concat[\"secs_elapsed\"].apply(lambda x: sum(np.nan_to_num(x)))\n",
    "session_df_concat[\"average_secs\"] = session_df_concat[\"secs_elapsed\"].apply(lambda x: mean(np.nan_to_num(x)))"
   ]
  },
  {
   "cell_type": "code",
   "execution_count": 6,
   "metadata": {},
   "outputs": [],
   "source": [
    "session_df_concat[\"unique_action\"] = session_df_concat[\"action\"].apply(lambda x: set(action for action in x if pd.notnull(action)))\n",
    "session_df_concat[\"unique_action\"] = session_df_concat[\"unique_action\"].apply(lambda x: \", \".join(str(item) for item in x))"
   ]
  },
  {
   "cell_type": "code",
   "execution_count": 7,
   "metadata": {},
   "outputs": [],
   "source": [
    "session_df_concat[\"unique_action_type\"] = session_df_concat[\"action_type\"].apply(lambda x: set(action_type for action_type in x if pd.notnull(action_type)))\n",
    "session_df_concat[\"unique_action_type\"] = session_df_concat[\"unique_action_type\"].apply(lambda x: \", \".join(str(item) for item in x))"
   ]
  },
  {
   "cell_type": "code",
   "execution_count": 8,
   "metadata": {},
   "outputs": [],
   "source": [
    "session_df_concat[\"unique_action_detail\"] = session_df_concat[\"action_detail\"].apply(lambda x: set(action_detail for action_detail in x if pd.notnull(action_detail)))\n",
    "session_df_concat[\"unique_action_detail\"] = session_df_concat[\"unique_action_detail\"].apply(lambda x: \", \".join(str(item) for item in x))"
   ]
  },
  {
   "cell_type": "code",
   "execution_count": 9,
   "metadata": {},
   "outputs": [],
   "source": [
    "session_df_concat[\"unique_device_type\"] = session_df_concat[\"device_type\"].apply(lambda x: set(device for device in x if pd.notnull(device)))\n",
    "session_df_concat[\"unique_device_type\"] = session_df_concat[\"unique_device_type\"].apply(lambda x: \", \".join(str(item) for item in x))"
   ]
  },
  {
   "cell_type": "code",
   "execution_count": 89,
   "metadata": {},
   "outputs": [],
   "source": [
    "train_df = pd.read_csv(r\"C:\\Users\\Wenxia\\Desktop\\Python\\Airbnb_prediction\\data\\train_users_2.csv\")"
   ]
  },
  {
   "cell_type": "code",
   "execution_count": 90,
   "metadata": {},
   "outputs": [],
   "source": [
    "# ensure the date_account_created is in datetime format\n",
    "train_df[\"date_account_created\"] = pd.to_datetime(train_df[\"date_account_created\"])\n",
    "\n",
    "train_df[\"year_account_created\"] = train_df[\"date_account_created\"].dt.year\n",
    "train_df[\"month_account_created\"] = train_df[\"date_account_created\"].dt.month\n",
    "train_df[\"day_account_created\"] = train_df[\"date_account_created\"].dt.day"
   ]
  },
  {
   "cell_type": "code",
   "execution_count": 91,
   "metadata": {},
   "outputs": [],
   "source": [
    "# fill missing age value with mean age\n",
    "mean_age = train_df[\"age\"].mean()\n",
    "\n",
    "train_df[\"age\"] = train_df[\"age\"].fillna(mean_age)"
   ]
  },
  {
   "cell_type": "code",
   "execution_count": 92,
   "metadata": {},
   "outputs": [],
   "source": [
    "train_session_df = train_df.merge(session_df_concat, left_on = \"id\", right_on = \"user_id\", how = \"inner\") "
   ]
  },
  {
   "cell_type": "code",
   "execution_count": 93,
   "metadata": {},
   "outputs": [
    {
     "name": "stdout",
     "output_type": "stream",
     "text": [
      "Train shape: (213451, 19)\n",
      "Session shape:  (135483, 12)\n",
      "Merged shape: (73815, 31)\n"
     ]
    }
   ],
   "source": [
    "print(\"Train shape:\", train_df.shape)\n",
    "print(\"Session shape: \", session_df_concat.shape)\n",
    "print(\"Merged shape:\", train_session_df.shape)"
   ]
  },
  {
   "cell_type": "code",
   "execution_count": 94,
   "metadata": {},
   "outputs": [
    {
     "data": {
      "text/html": [
       "<div>\n",
       "<style scoped>\n",
       "    .dataframe tbody tr th:only-of-type {\n",
       "        vertical-align: middle;\n",
       "    }\n",
       "\n",
       "    .dataframe tbody tr th {\n",
       "        vertical-align: top;\n",
       "    }\n",
       "\n",
       "    .dataframe thead th {\n",
       "        text-align: right;\n",
       "    }\n",
       "</style>\n",
       "<table border=\"1\" class=\"dataframe\">\n",
       "  <thead>\n",
       "    <tr style=\"text-align: right;\">\n",
       "      <th></th>\n",
       "      <th>id</th>\n",
       "      <th>gender</th>\n",
       "      <th>age</th>\n",
       "      <th>signup_method</th>\n",
       "      <th>signup_flow</th>\n",
       "      <th>language</th>\n",
       "      <th>affiliate_channel</th>\n",
       "      <th>affiliate_provider</th>\n",
       "      <th>signup_app</th>\n",
       "      <th>first_device_type</th>\n",
       "      <th>...</th>\n",
       "      <th>country_destination</th>\n",
       "      <th>year_account_created</th>\n",
       "      <th>month_account_created</th>\n",
       "      <th>day_account_created</th>\n",
       "      <th>total_secs</th>\n",
       "      <th>average_secs</th>\n",
       "      <th>unique_action</th>\n",
       "      <th>unique_action_type</th>\n",
       "      <th>unique_action_detail</th>\n",
       "      <th>unique_device_type</th>\n",
       "    </tr>\n",
       "  </thead>\n",
       "  <tbody>\n",
       "    <tr>\n",
       "      <th>0</th>\n",
       "      <td>d1mm9tcy42</td>\n",
       "      <td>MALE</td>\n",
       "      <td>62.000000</td>\n",
       "      <td>basic</td>\n",
       "      <td>0</td>\n",
       "      <td>en</td>\n",
       "      <td>sem-non-brand</td>\n",
       "      <td>google</td>\n",
       "      <td>Web</td>\n",
       "      <td>Windows Desktop</td>\n",
       "      <td>...</td>\n",
       "      <td>other</td>\n",
       "      <td>2014</td>\n",
       "      <td>1</td>\n",
       "      <td>1</td>\n",
       "      <td>3427529.0</td>\n",
       "      <td>26988.417323</td>\n",
       "      <td>personalize, other_hosting_reviews_first, rece...</td>\n",
       "      <td>view, data, message_post, -unknown-, click, su...</td>\n",
       "      <td>wishlist_content_update, message_post, header_...</td>\n",
       "      <td>-unknown-, Windows Desktop</td>\n",
       "    </tr>\n",
       "    <tr>\n",
       "      <th>1</th>\n",
       "      <td>yo8nz8bqcq</td>\n",
       "      <td>-unknown-</td>\n",
       "      <td>49.668335</td>\n",
       "      <td>basic</td>\n",
       "      <td>0</td>\n",
       "      <td>en</td>\n",
       "      <td>direct</td>\n",
       "      <td>direct</td>\n",
       "      <td>Web</td>\n",
       "      <td>Mac Desktop</td>\n",
       "      <td>...</td>\n",
       "      <td>NDF</td>\n",
       "      <td>2014</td>\n",
       "      <td>1</td>\n",
       "      <td>1</td>\n",
       "      <td>207842.0</td>\n",
       "      <td>23093.555556</td>\n",
       "      <td>dashboard, confirm_email, personalize, header_...</td>\n",
       "      <td>data, click, submit, view</td>\n",
       "      <td>dashboard, user_profile_content_update, confir...</td>\n",
       "      <td>Mac Desktop</td>\n",
       "    </tr>\n",
       "  </tbody>\n",
       "</table>\n",
       "<p>2 rows × 21 columns</p>\n",
       "</div>"
      ],
      "text/plain": [
       "           id     gender        age signup_method  signup_flow language  \\\n",
       "0  d1mm9tcy42       MALE  62.000000         basic            0       en   \n",
       "1  yo8nz8bqcq  -unknown-  49.668335         basic            0       en   \n",
       "\n",
       "  affiliate_channel affiliate_provider signup_app first_device_type  ...  \\\n",
       "0     sem-non-brand             google        Web   Windows Desktop  ...   \n",
       "1            direct             direct        Web       Mac Desktop  ...   \n",
       "\n",
       "  country_destination year_account_created  month_account_created  \\\n",
       "0               other                 2014                      1   \n",
       "1                 NDF                 2014                      1   \n",
       "\n",
       "   day_account_created  total_secs  average_secs  \\\n",
       "0                    1   3427529.0  26988.417323   \n",
       "1                    1    207842.0  23093.555556   \n",
       "\n",
       "                                       unique_action  \\\n",
       "0  personalize, other_hosting_reviews_first, rece...   \n",
       "1  dashboard, confirm_email, personalize, header_...   \n",
       "\n",
       "                                  unique_action_type  \\\n",
       "0  view, data, message_post, -unknown-, click, su...   \n",
       "1                          data, click, submit, view   \n",
       "\n",
       "                                unique_action_detail  \\\n",
       "0  wishlist_content_update, message_post, header_...   \n",
       "1  dashboard, user_profile_content_update, confir...   \n",
       "\n",
       "           unique_device_type  \n",
       "0  -unknown-, Windows Desktop  \n",
       "1                 Mac Desktop  \n",
       "\n",
       "[2 rows x 21 columns]"
      ]
     },
     "execution_count": 94,
     "metadata": {},
     "output_type": "execute_result"
    }
   ],
   "source": [
    "# drop \"action\", \"action_type\", 'action_detail', 'device_type', 'secs_elapsed'\n",
    "train_session_df = train_session_df.drop([\"action\", \"action_type\", 'action_detail', 'device_type', 'secs_elapsed', 'user_id', 'timestamp_first_active', \"date_account_created\", \"date_first_booking\", \"first_affiliate_tracked\"], axis=1)\n",
    "train_session_df.head(2)"
   ]
  },
  {
   "cell_type": "code",
   "execution_count": 95,
   "metadata": {},
   "outputs": [
    {
     "data": {
      "text/plain": [
       "id                       0\n",
       "gender                   0\n",
       "age                      0\n",
       "signup_method            0\n",
       "signup_flow              0\n",
       "language                 0\n",
       "affiliate_channel        0\n",
       "affiliate_provider       0\n",
       "signup_app               0\n",
       "first_device_type        0\n",
       "first_browser            0\n",
       "country_destination      0\n",
       "year_account_created     0\n",
       "month_account_created    0\n",
       "day_account_created      0\n",
       "total_secs               0\n",
       "average_secs             0\n",
       "unique_action            0\n",
       "unique_action_type       0\n",
       "unique_action_detail     0\n",
       "unique_device_type       0\n",
       "dtype: int64"
      ]
     },
     "execution_count": 95,
     "metadata": {},
     "output_type": "execute_result"
    }
   ],
   "source": [
    "train_session_df.isnull().sum()"
   ]
  },
  {
   "cell_type": "code",
   "execution_count": 96,
   "metadata": {},
   "outputs": [
    {
     "name": "stdout",
     "output_type": "stream",
     "text": [
      "Y Shape: (73815,)\n",
      "X Shape: (73815, 20)\n"
     ]
    }
   ],
   "source": [
    "# create X and Y \n",
    "train_session_target = train_session_df[\"country_destination\"]\n",
    "train_session_df = train_session_df.drop([\"country_destination\"], axis=1)\n",
    "\n",
    "print(\"Y Shape:\", train_session_target.shape)\n",
    "print(\"X Shape:\", train_session_df.shape)"
   ]
  },
  {
   "cell_type": "code",
   "execution_count": 97,
   "metadata": {},
   "outputs": [
    {
     "data": {
      "text/plain": [
       "(73815, 133)"
      ]
     },
     "execution_count": 97,
     "metadata": {},
     "output_type": "execute_result"
    }
   ],
   "source": [
    "train_session_df = pd.get_dummies(train_session_df, columns=[\"gender\", \"signup_method\", \"language\", \"affiliate_channel\", \"affiliate_provider\", \n",
    "                                                       \"signup_app\", \"first_device_type\", \"first_browser\", \"affiliate_provider\"]) # those cols are automatically dropped\n",
    "train_session_df.shape"
   ]
  },
  {
   "cell_type": "code",
   "execution_count": 98,
   "metadata": {},
   "outputs": [],
   "source": [
    "train_session_df = train_session_df.drop([\"id\"], axis=1)"
   ]
  },
  {
   "cell_type": "code",
   "execution_count": 170,
   "metadata": {},
   "outputs": [
    {
     "name": "stdout",
     "output_type": "stream",
     "text": [
      "(62096, 15)\n"
     ]
    },
    {
     "data": {
      "text/plain": [
       "Index(['id', 'date_account_created', 'timestamp_first_active',\n",
       "       'date_first_booking', 'gender', 'age', 'signup_method', 'signup_flow',\n",
       "       'language', 'affiliate_channel', 'affiliate_provider',\n",
       "       'first_affiliate_tracked', 'signup_app', 'first_device_type',\n",
       "       'first_browser'],\n",
       "      dtype='object')"
      ]
     },
     "execution_count": 170,
     "metadata": {},
     "output_type": "execute_result"
    }
   ],
   "source": [
    "# clean test data, follow the steps of train data\n",
    "\n",
    "test_df = pd.read_csv(r\"C:\\Users\\Wenxia\\Desktop\\Python\\Airbnb_prediction\\data\\test_users.csv\")\n",
    "print(test_df.shape)\n",
    "test_df.columns"
   ]
  },
  {
   "cell_type": "code",
   "execution_count": 132,
   "metadata": {},
   "outputs": [],
   "source": [
    "test_df[\"date_account_created\"] = pd.to_datetime(test_df[\"date_account_created\"])\n",
    "test_df[\"year_account_created\"] = test_df[\"date_account_created\"].dt.year\n",
    "test_df[\"month_account_created\"] = test_df[\"date_account_created\"].dt.month\n",
    "test_df[\"day_account_created\"] = test_df[\"date_account_created\"].dt.day"
   ]
  },
  {
   "cell_type": "code",
   "execution_count": 133,
   "metadata": {},
   "outputs": [],
   "source": [
    "mean_age = test_df[\"age\"].mean()\n",
    "\n",
    "test_df[\"age\"] = test_df[\"age\"].fillna(mean_age)"
   ]
  },
  {
   "cell_type": "code",
   "execution_count": 172,
   "metadata": {},
   "outputs": [],
   "source": [
    "test_session_df = test_df.merge(session_df_concat, left_on = \"id\", right_on = \"user_id\", how = \"inner\") \n",
    "test_session_df.to_csv(r'C:\\Users\\Wenxia\\Desktop\\Python\\Airbnb_prediction\\data\\test_user_merged.csv', index=False)"
   ]
  },
  {
   "cell_type": "code",
   "execution_count": 135,
   "metadata": {},
   "outputs": [
    {
     "data": {
      "text/plain": [
       "(61668, 139)"
      ]
     },
     "execution_count": 135,
     "metadata": {},
     "output_type": "execute_result"
    }
   ],
   "source": [
    "test_session_df = pd.get_dummies(test_session_df, columns=[\"gender\", \"signup_method\", \"language\", \"affiliate_channel\", \"affiliate_provider\", \n",
    "                                                       \"signup_app\", \"first_device_type\", \"first_browser\", \"affiliate_provider\"]) # those cols are automatically dropped\n",
    "test_session_df.shape"
   ]
  },
  {
   "cell_type": "code",
   "execution_count": 136,
   "metadata": {},
   "outputs": [],
   "source": [
    "test_session_df = test_session_df.drop([\"id\"], axis=1)"
   ]
  },
  {
   "cell_type": "code",
   "execution_count": 162,
   "metadata": {},
   "outputs": [
    {
     "name": "stdout",
     "output_type": "stream",
     "text": [
      "X_train: (59052, 132)\n",
      "Y_train: (59052,)\n",
      "X_cv: (14763, 132)\n",
      "Y_cv: 32057      NDF\n",
      "9468       NDF\n",
      "50891      NDF\n",
      "9863        US\n",
      "43037      NDF\n",
      "         ...  \n",
      "55778      NDF\n",
      "14074    other\n",
      "44309       US\n",
      "42860    other\n",
      "18290       US\n",
      "Name: country_destination, Length: 14763, dtype: object\n"
     ]
    }
   ],
   "source": [
    "# split the date into train and test for modelling\n",
    "from sklearn.model_selection import train_test_split\n",
    "\n",
    "X_train, X_cv, Y_train, Y_cv = train_test_split(train_session_df, train_session_target, test_size = 0.2, random_state=414)\n",
    "\n",
    "print(\"X_train:\", X_train.shape)\n",
    "print(\"Y_train:\", Y_train.shape)\n",
    "print(\"X_cv:\", X_cv.shape)\n",
    "print(\"Y_cv:\", Y_cv)"
   ]
  },
  {
   "cell_type": "code",
   "execution_count": 27,
   "metadata": {},
   "outputs": [],
   "source": [
    "# TFIDF Vectorization for the text field\n",
    "## create unigram and bigram features for \"unique_action\" field:\n",
    "from sklearn.feature_extraction.text import TfidfVectorizer\n",
    "\n",
    "tfidf_vect_action = TfidfVectorizer(min_df = 10, max_features=5000)\n",
    "tfidf_vect_action.fit(X_train[\"unique_action\"].values)\n",
    "train_session_action_tfidf = tfidf_vect_action.transform(X_train[\"unique_action\"].values)"
   ]
  },
  {
   "cell_type": "code",
   "execution_count": 28,
   "metadata": {},
   "outputs": [],
   "source": [
    "cv_session_action_tfidf = tfidf_vect_action.transform(X_cv[\"unique_action\"].values)"
   ]
  },
  {
   "cell_type": "code",
   "execution_count": 29,
   "metadata": {},
   "outputs": [
    {
     "data": {
      "text/plain": [
       "(59052, 251)"
      ]
     },
     "execution_count": 29,
     "metadata": {},
     "output_type": "execute_result"
    }
   ],
   "source": [
    "train_session_action_tfidf.shape"
   ]
  },
  {
   "cell_type": "code",
   "execution_count": 30,
   "metadata": {},
   "outputs": [
    {
     "data": {
      "text/plain": [
       "(14763, 251)"
      ]
     },
     "execution_count": 30,
     "metadata": {},
     "output_type": "execute_result"
    }
   ],
   "source": [
    "cv_session_action_tfidf.shape"
   ]
  },
  {
   "cell_type": "code",
   "execution_count": 31,
   "metadata": {},
   "outputs": [
    {
     "name": "stdout",
     "output_type": "stream",
     "text": [
      "X action shape: (59052, 251)\n",
      "CV action shape: (14763, 251)\n",
      "Top 10 Feature Names for Action: ['10' '11' '12' '15' 'about_us' 'account' 'active' 'add_guests' 'add_note'\n",
      " 'agree_terms_check']\n"
     ]
    }
   ],
   "source": [
    "print(\"X action shape:\", train_session_action_tfidf.shape)\n",
    "print(\"CV action shape:\", cv_session_action_tfidf.shape)\n",
    "print(\"Top 10 Feature Names for Action:\", tfidf_vect_action.get_feature_names_out()[:10])"
   ]
  },
  {
   "cell_type": "code",
   "execution_count": 32,
   "metadata": {},
   "outputs": [],
   "source": [
    "# do the same for unique_action_type, unique_action_detail\n",
    "\n",
    "tfidf_vect_action_type = TfidfVectorizer(min_df=10, max_features=5000, ngram_range=(2,3)) # the list may contain 2 or 3 words \n",
    "tfidf_vect_action_type.fit(X_train[\"unique_action_type\"].values)\n",
    "train_session_action_type_tfidf = tfidf_vect_action_type.transform(X_train[\"unique_action_type\"].values)"
   ]
  },
  {
   "cell_type": "code",
   "execution_count": 33,
   "metadata": {},
   "outputs": [],
   "source": [
    "cv_session_action_type_tfidf = tfidf_vect_action_type.transform(X_cv[\"unique_action_type\"].values)"
   ]
  },
  {
   "cell_type": "code",
   "execution_count": 34,
   "metadata": {},
   "outputs": [
    {
     "name": "stdout",
     "output_type": "stream",
     "text": [
      "X action type shape: (59052, 105)\n",
      "CV action type shape: (14763, 105)\n",
      "Top 10 Feature Names for Action Type: ['booking_request data' 'booking_request data click'\n",
      " 'booking_request message_post' 'booking_request submit'\n",
      " 'booking_request submit view' 'booking_request view'\n",
      " 'booking_request view data' 'booking_request view message_post'\n",
      " 'click booking_request' 'click message_post']\n"
     ]
    }
   ],
   "source": [
    "print(\"X action type shape:\", train_session_action_type_tfidf.shape)\n",
    "print(\"CV action type shape:\", cv_session_action_type_tfidf.shape)\n",
    "print(\"Top 10 Feature Names for Action Type:\", tfidf_vect_action_type.get_feature_names_out()[:10])"
   ]
  },
  {
   "cell_type": "code",
   "execution_count": 35,
   "metadata": {},
   "outputs": [],
   "source": [
    "tfidf_vect_action_detail = TfidfVectorizer(min_df=10, max_features=5000)\n",
    "tfidf_vect_action_detail.fit(X_train[\"unique_action_detail\"].values)\n",
    "train_session_action_detail_tfidf = tfidf_vect_action_detail.transform(X_train[\"unique_action_detail\"].values)"
   ]
  },
  {
   "cell_type": "code",
   "execution_count": 36,
   "metadata": {},
   "outputs": [],
   "source": [
    "cv_session_action_detail_tfidf = tfidf_vect_action_detail.transform(X_cv[\"unique_action_detail\"].values)"
   ]
  },
  {
   "cell_type": "code",
   "execution_count": 37,
   "metadata": {},
   "outputs": [
    {
     "name": "stdout",
     "output_type": "stream",
     "text": [
      "X action detail shape: (59052, 119)\n",
      "CV action detail shape: (14763, 119)\n",
      "Top 10 Feature Names for Action Detail: ['account_notification_settings' 'account_payout_preferences'\n",
      " 'account_privacy_settings' 'account_transaction_history'\n",
      " 'admin_templates' 'airbnb_picks_wishlists' 'alteration_field'\n",
      " 'alteration_request' 'apply_coupon' 'apply_coupon_click']\n"
     ]
    }
   ],
   "source": [
    "print(\"X action detail shape:\", train_session_action_detail_tfidf.shape)\n",
    "print(\"CV action detail shape:\", cv_session_action_detail_tfidf.shape)\n",
    "print(\"Top 10 Feature Names for Action Detail:\", tfidf_vect_action_detail.get_feature_names_out()[:10])"
   ]
  },
  {
   "cell_type": "code",
   "execution_count": 38,
   "metadata": {},
   "outputs": [],
   "source": [
    "tfidf_vect_device = TfidfVectorizer(min_df=10, max_features=5000)\n",
    "tfidf_vect_device.fit(X_train[\"unique_device_type\"].values)\n",
    "train_session_device_tfidf = tfidf_vect_device.transform(X_train[\"unique_device_type\"].values)"
   ]
  },
  {
   "cell_type": "code",
   "execution_count": 39,
   "metadata": {},
   "outputs": [],
   "source": [
    "cv_session_device_tfidf = tfidf_vect_device.transform(X_cv[\"unique_device_type\"].values)"
   ]
  },
  {
   "cell_type": "code",
   "execution_count": 40,
   "metadata": {},
   "outputs": [
    {
     "name": "stdout",
     "output_type": "stream",
     "text": [
      "X device type shape: (59052, 14)\n",
      "CV device type shape: (14763, 14)\n",
      "Top 10 Feature Names for Device: ['android' 'app' 'blackberry' 'chromebook' 'desktop' 'ipad' 'iphone'\n",
      " 'ipodtouch' 'linux' 'mac']\n"
     ]
    }
   ],
   "source": [
    "print(\"X device type shape:\", train_session_device_tfidf.shape)\n",
    "print(\"CV device type shape:\", cv_session_device_tfidf.shape)\n",
    "print(\"Top 10 Feature Names for Device:\", tfidf_vect_device.get_feature_names_out()[:10])"
   ]
  },
  {
   "cell_type": "code",
   "execution_count": 163,
   "metadata": {},
   "outputs": [],
   "source": [
    "X_train = X_train.drop([\"unique_action\", \"unique_action_type\", \"unique_action_detail\", \"unique_device_type\"], axis=1)"
   ]
  },
  {
   "cell_type": "code",
   "execution_count": 164,
   "metadata": {},
   "outputs": [
    {
     "data": {
      "text/plain": [
       "617"
      ]
     },
     "execution_count": 164,
     "metadata": {},
     "output_type": "execute_result"
    }
   ],
   "source": [
    "final_column_list = [col for col in X_train.columns]\n",
    "final_column_list.extend(tfidf_vect_action.get_feature_names_out())\n",
    "final_column_list.extend(tfidf_vect_action_detail.get_feature_names_out())\n",
    "final_column_list.extend(tfidf_vect_action_type.get_feature_names_out())\n",
    "final_column_list.extend(tfidf_vect_device.get_feature_names_out())\n",
    "len(final_column_list)"
   ]
  },
  {
   "cell_type": "code",
   "execution_count": 165,
   "metadata": {},
   "outputs": [],
   "source": [
    "X_cv = X_cv.drop([\"unique_action\", \"unique_action_type\", \"unique_action_detail\", \"unique_device_type\"], axis=1)"
   ]
  },
  {
   "cell_type": "code",
   "execution_count": 155,
   "metadata": {},
   "outputs": [
    {
     "ename": "KeyError",
     "evalue": "'unique_action'",
     "output_type": "error",
     "traceback": [
      "\u001b[1;31m---------------------------------------------------------------------------\u001b[0m",
      "\u001b[1;31mKeyError\u001b[0m                                  Traceback (most recent call last)",
      "File \u001b[1;32mc:\\Users\\Wenxia\\anaconda3\\lib\\site-packages\\pandas\\core\\indexes\\base.py:3802\u001b[0m, in \u001b[0;36mIndex.get_loc\u001b[1;34m(self, key, method, tolerance)\u001b[0m\n\u001b[0;32m   3801\u001b[0m \u001b[38;5;28;01mtry\u001b[39;00m:\n\u001b[1;32m-> 3802\u001b[0m     \u001b[38;5;28;01mreturn\u001b[39;00m \u001b[38;5;28;43mself\u001b[39;49m\u001b[38;5;241;43m.\u001b[39;49m\u001b[43m_engine\u001b[49m\u001b[38;5;241;43m.\u001b[39;49m\u001b[43mget_loc\u001b[49m\u001b[43m(\u001b[49m\u001b[43mcasted_key\u001b[49m\u001b[43m)\u001b[49m\n\u001b[0;32m   3803\u001b[0m \u001b[38;5;28;01mexcept\u001b[39;00m \u001b[38;5;167;01mKeyError\u001b[39;00m \u001b[38;5;28;01mas\u001b[39;00m err:\n",
      "File \u001b[1;32mc:\\Users\\Wenxia\\anaconda3\\lib\\site-packages\\pandas\\_libs\\index.pyx:138\u001b[0m, in \u001b[0;36mpandas._libs.index.IndexEngine.get_loc\u001b[1;34m()\u001b[0m\n",
      "File \u001b[1;32mc:\\Users\\Wenxia\\anaconda3\\lib\\site-packages\\pandas\\_libs\\index.pyx:162\u001b[0m, in \u001b[0;36mpandas._libs.index.IndexEngine.get_loc\u001b[1;34m()\u001b[0m\n",
      "File \u001b[1;32mc:\\Users\\Wenxia\\anaconda3\\lib\\site-packages\\pandas\\_libs\\index.pyx:203\u001b[0m, in \u001b[0;36mpandas._libs.index.IndexEngine._get_loc_duplicates\u001b[1;34m()\u001b[0m\n",
      "File \u001b[1;32mc:\\Users\\Wenxia\\anaconda3\\lib\\site-packages\\pandas\\_libs\\index.pyx:211\u001b[0m, in \u001b[0;36mpandas._libs.index.IndexEngine._maybe_get_bool_indexer\u001b[1;34m()\u001b[0m\n",
      "File \u001b[1;32mc:\\Users\\Wenxia\\anaconda3\\lib\\site-packages\\pandas\\_libs\\index.pyx:107\u001b[0m, in \u001b[0;36mpandas._libs.index._unpack_bool_indexer\u001b[1;34m()\u001b[0m\n",
      "\u001b[1;31mKeyError\u001b[0m: 'unique_action'",
      "\nThe above exception was the direct cause of the following exception:\n",
      "\u001b[1;31mKeyError\u001b[0m                                  Traceback (most recent call last)",
      "Cell \u001b[1;32mIn[155], line 1\u001b[0m\n\u001b[1;32m----> 1\u001b[0m test_session_action_tfidf \u001b[38;5;241m=\u001b[39m tfidf_vect_action\u001b[38;5;241m.\u001b[39mtransform(\u001b[43mtest_session_df\u001b[49m\u001b[43m[\u001b[49m\u001b[38;5;124;43m\"\u001b[39;49m\u001b[38;5;124;43munique_action\u001b[39;49m\u001b[38;5;124;43m\"\u001b[39;49m\u001b[43m]\u001b[49m\u001b[38;5;241m.\u001b[39mvalues)\n\u001b[0;32m      2\u001b[0m test_session_action_type_tfidf \u001b[38;5;241m=\u001b[39m tfidf_vect_action_type\u001b[38;5;241m.\u001b[39mtransform(test_session_df[\u001b[38;5;124m\"\u001b[39m\u001b[38;5;124munique_action_type\u001b[39m\u001b[38;5;124m\"\u001b[39m]\u001b[38;5;241m.\u001b[39mvalues)\n\u001b[0;32m      3\u001b[0m test_session_action_detail_tfidf \u001b[38;5;241m=\u001b[39m tfidf_vect_action_detail\u001b[38;5;241m.\u001b[39mtransform(test_session_df[\u001b[38;5;124m\"\u001b[39m\u001b[38;5;124munique_action_detail\u001b[39m\u001b[38;5;124m\"\u001b[39m]\u001b[38;5;241m.\u001b[39mvalues)\n",
      "File \u001b[1;32mc:\\Users\\Wenxia\\anaconda3\\lib\\site-packages\\pandas\\core\\frame.py:3807\u001b[0m, in \u001b[0;36mDataFrame.__getitem__\u001b[1;34m(self, key)\u001b[0m\n\u001b[0;32m   3805\u001b[0m \u001b[38;5;28;01mif\u001b[39;00m \u001b[38;5;28mself\u001b[39m\u001b[38;5;241m.\u001b[39mcolumns\u001b[38;5;241m.\u001b[39mnlevels \u001b[38;5;241m>\u001b[39m \u001b[38;5;241m1\u001b[39m:\n\u001b[0;32m   3806\u001b[0m     \u001b[38;5;28;01mreturn\u001b[39;00m \u001b[38;5;28mself\u001b[39m\u001b[38;5;241m.\u001b[39m_getitem_multilevel(key)\n\u001b[1;32m-> 3807\u001b[0m indexer \u001b[38;5;241m=\u001b[39m \u001b[38;5;28;43mself\u001b[39;49m\u001b[38;5;241;43m.\u001b[39;49m\u001b[43mcolumns\u001b[49m\u001b[38;5;241;43m.\u001b[39;49m\u001b[43mget_loc\u001b[49m\u001b[43m(\u001b[49m\u001b[43mkey\u001b[49m\u001b[43m)\u001b[49m\n\u001b[0;32m   3808\u001b[0m \u001b[38;5;28;01mif\u001b[39;00m is_integer(indexer):\n\u001b[0;32m   3809\u001b[0m     indexer \u001b[38;5;241m=\u001b[39m [indexer]\n",
      "File \u001b[1;32mc:\\Users\\Wenxia\\anaconda3\\lib\\site-packages\\pandas\\core\\indexes\\base.py:3804\u001b[0m, in \u001b[0;36mIndex.get_loc\u001b[1;34m(self, key, method, tolerance)\u001b[0m\n\u001b[0;32m   3802\u001b[0m     \u001b[38;5;28;01mreturn\u001b[39;00m \u001b[38;5;28mself\u001b[39m\u001b[38;5;241m.\u001b[39m_engine\u001b[38;5;241m.\u001b[39mget_loc(casted_key)\n\u001b[0;32m   3803\u001b[0m \u001b[38;5;28;01mexcept\u001b[39;00m \u001b[38;5;167;01mKeyError\u001b[39;00m \u001b[38;5;28;01mas\u001b[39;00m err:\n\u001b[1;32m-> 3804\u001b[0m     \u001b[38;5;28;01mraise\u001b[39;00m \u001b[38;5;167;01mKeyError\u001b[39;00m(key) \u001b[38;5;28;01mfrom\u001b[39;00m \u001b[38;5;21;01merr\u001b[39;00m\n\u001b[0;32m   3805\u001b[0m \u001b[38;5;28;01mexcept\u001b[39;00m \u001b[38;5;167;01mTypeError\u001b[39;00m:\n\u001b[0;32m   3806\u001b[0m     \u001b[38;5;66;03m# If we have a listlike key, _check_indexing_error will raise\u001b[39;00m\n\u001b[0;32m   3807\u001b[0m     \u001b[38;5;66;03m#  InvalidIndexError. Otherwise we fall through and re-raise\u001b[39;00m\n\u001b[0;32m   3808\u001b[0m     \u001b[38;5;66;03m#  the TypeError.\u001b[39;00m\n\u001b[0;32m   3809\u001b[0m     \u001b[38;5;28mself\u001b[39m\u001b[38;5;241m.\u001b[39m_check_indexing_error(key)\n",
      "\u001b[1;31mKeyError\u001b[0m: 'unique_action'"
     ]
    }
   ],
   "source": [
    "test_session_action_tfidf = tfidf_vect_action.transform(test_session_df[\"unique_action\"].values)\n",
    "test_session_action_type_tfidf = tfidf_vect_action_type.transform(test_session_df[\"unique_action_type\"].values)\n",
    "test_session_action_detail_tfidf = tfidf_vect_action_detail.transform(test_session_df[\"unique_action_detail\"].values)\n",
    "test_session_device_tfidf = tfidf_vect_device.transform(test_session_df[\"unique_device_type\"].values)"
   ]
  },
  {
   "cell_type": "code",
   "execution_count": 142,
   "metadata": {},
   "outputs": [],
   "source": [
    "# drop \"action\", \"action_type\", 'action_detail', 'device_type', 'secs_elapsed'\n",
    "test_session_df = test_session_df.drop([\"action\", \"action_type\", 'action_detail', 'device_type', 'secs_elapsed', 'user_id', 'timestamp_first_active', \"date_account_created\", \"date_first_booking\", \"first_affiliate_tracked\", 'unique_action', 'unique_action_type', 'unique_action_detail', 'unique_device_type'], axis=1)"
   ]
  },
  {
   "cell_type": "code",
   "execution_count": 166,
   "metadata": {},
   "outputs": [
    {
     "name": "stdout",
     "output_type": "stream",
     "text": [
      "(59052, 135)\n",
      "(14763, 135)\n",
      "(61668, 135)\n"
     ]
    }
   ],
   "source": [
    "# create extra cols for test data, which has less data points than train data \n",
    "all_columns = set(X_train.columns).union(set(test_session_df.columns))\n",
    "\n",
    "for col in all_columns: \n",
    "    if col not in X_train.columns: \n",
    "        X_train[col] = 0 \n",
    "\n",
    "for col in all_columns: \n",
    "    if col not in X_cv.columns: \n",
    "        X_cv[col] = 0 \n",
    "\n",
    "for col in all_columns:\n",
    "    if col not in test_session_df.columns: \n",
    "        test_session_df[col] = 0 \n",
    "    \n",
    "print(X_train.shape)\n",
    "print(X_cv.shape)\n",
    "print(test_session_df.shape)"
   ]
  },
  {
   "cell_type": "code",
   "execution_count": 167,
   "metadata": {},
   "outputs": [],
   "source": [
    " # concatenate the vectorized features \n",
    "X_train = sparse.hstack((X_train, train_session_action_tfidf, train_session_action_type_tfidf, train_session_action_detail_tfidf, train_session_device_tfidf)).tocsr()"
   ]
  },
  {
   "cell_type": "code",
   "execution_count": 168,
   "metadata": {},
   "outputs": [],
   "source": [
    "X_cv = sparse.hstack((X_cv, cv_session_action_tfidf, cv_session_action_detail_tfidf, cv_session_action_type_tfidf, cv_session_device_tfidf)).tocsr()"
   ]
  },
  {
   "cell_type": "code",
   "execution_count": 169,
   "metadata": {},
   "outputs": [],
   "source": [
    "sparse.save_npz(r'C:\\Users\\Wenxia\\Desktop\\Python\\Airbnb_prediction\\data\\X_train.npz', X_train)\n",
    "sparse.save_npz(r'C:\\Users\\Wenxia\\Desktop\\Python\\Airbnb_prediction\\data\\X_cv.npz', X_cv)"
   ]
  },
  {
   "cell_type": "code",
   "execution_count": 147,
   "metadata": {},
   "outputs": [],
   "source": [
    "with open(r'C:\\Users\\Wenxia\\Desktop\\Python\\Airbnb_prediction\\data\\final_column_list.text', 'wb') as fp:\n",
    "    pickle.dump(final_column_list, fp)"
   ]
  },
  {
   "cell_type": "code",
   "execution_count": 148,
   "metadata": {},
   "outputs": [],
   "source": [
    "Y_train.to_pickle(r'C:\\Users\\Wenxia\\Desktop\\Python\\Airbnb_prediction\\data\\Y_train.pickle')\n",
    "Y_cv.to_pickle(r'C:\\Users\\Wenxia\\Desktop\\Python\\Airbnb_prediction\\data\\Y_cv.pickle') "
   ]
  },
  {
   "cell_type": "code",
   "execution_count": 149,
   "metadata": {},
   "outputs": [],
   "source": [
    "X_test = sparse.hstack((test_session_df, test_session_action_tfidf, test_session_action_detail_tfidf, test_session_action_type_tfidf, test_session_device_tfidf)).tocsr()"
   ]
  },
  {
   "cell_type": "code",
   "execution_count": 150,
   "metadata": {},
   "outputs": [],
   "source": [
    "sparse.save_npz(r'C:\\Users\\Wenxia\\Desktop\\Python\\Airbnb_prediction\\data\\X_test.npz', X_test)"
   ]
  }
 ],
 "metadata": {
  "kernelspec": {
   "display_name": "base",
   "language": "python",
   "name": "python3"
  },
  "language_info": {
   "codemirror_mode": {
    "name": "ipython",
    "version": 3
   },
   "file_extension": ".py",
   "mimetype": "text/x-python",
   "name": "python",
   "nbconvert_exporter": "python",
   "pygments_lexer": "ipython3",
   "version": "3.9.12"
  }
 },
 "nbformat": 4,
 "nbformat_minor": 2
}
